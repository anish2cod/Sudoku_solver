{
 "cells": [
  {
   "cell_type": "code",
   "execution_count": 1,
   "id": "23132811",
   "metadata": {},
   "outputs": [],
   "source": [
    "#Defining the sududo matrix\n",
    "import numpy as np\n",
    "\n",
    "matrix = np.matrix([[1,0,7,6,0,0,0,0,0],[0,0,9,0,4,0,7,0,0],[0,0,5,0,8,0,0,3,0],[0,2,0,0,0,0,0,8,7],[0,0,4,7,0,6,9,0,0],[7,5,0,0,0,0,0,1,0],[0,4,0,0,9,0,3,0,0],[0,0,1,0,6,0,8,0,0],[0,0,0,0,0,3,1,0,6]])"
   ]
  },
  {
   "cell_type": "code",
   "execution_count": 119,
   "id": "c4f769de",
   "metadata": {},
   "outputs": [],
   "source": [
    "#Find the index of value 0\n",
    "index = np.where(matrix == 0)\n",
    "index\n",
    "matrix2 = matrix.copy()"
   ]
  },
  {
   "cell_type": "code",
   "execution_count": 126,
   "id": "5911f612",
   "metadata": {},
   "outputs": [],
   "source": [
    "\n",
    "\n",
    "def lst(i):\n",
    "    return [index[0][i]],[index[1][i]]\n",
    "\n",
    "def matrix_change():\n",
    "    temp_list = []\n",
    "    for i in np.arange(len(index[0])):\n",
    "        row,col = lst(i)[0][0],lst(i)[1][0]\n",
    "        for j in np.arange(1,10):\n",
    "            if (j not in matrix[row] and j not in matrix.T[col]):\n",
    "                temp_row,temp_col = int(row/3),int(col/3)\n",
    "                box_x = []\n",
    "                box_y = []\n",
    "                for x in range(3*temp_row,3*temp_row+3):\n",
    "                    for y in range(3*temp_col,3*temp_col+3):\n",
    "                        box_x.append(x)\n",
    "                        box_y.append(y)\n",
    "                box = (box_x,box_y)\n",
    "                if (j not in matrix[box]):\n",
    "                    temp_list.append(j)\n",
    "        if(len(temp_list) ==1):\n",
    "            matrix[[row],[col]]=temp_list[0]\n",
    "        temp_list=[]\n",
    "    return matrix\n",
    "matrix2=matrix3\n",
    "matrix3=matrix_change()\n"
   ]
  },
  {
   "cell_type": "code",
   "execution_count": 124,
   "id": "ddf57416",
   "metadata": {},
   "outputs": [
    {
     "data": {
      "text/plain": [
       "matrix([[1, 0, 7, 6, 0, 0, 0, 0, 0],\n",
       "        [0, 0, 9, 0, 4, 0, 7, 0, 0],\n",
       "        [0, 6, 5, 0, 8, 0, 0, 3, 0],\n",
       "        [0, 2, 0, 0, 0, 0, 0, 8, 7],\n",
       "        [0, 0, 4, 7, 0, 6, 9, 0, 0],\n",
       "        [7, 5, 0, 0, 0, 0, 0, 1, 0],\n",
       "        [0, 4, 0, 0, 9, 0, 3, 0, 0],\n",
       "        [0, 0, 1, 0, 6, 0, 8, 0, 0],\n",
       "        [0, 0, 0, 0, 0, 3, 1, 0, 6]])"
      ]
     },
     "execution_count": 124,
     "metadata": {},
     "output_type": "execute_result"
    }
   ],
   "source": [
    "ind = [list(index[0]),list(index[1])]\n",
    "matrix[[1],[2]]\n",
    "matrix[lst(3)]=matrix[lst(3)].tolist()\n",
    "lst(1)[1]\n",
    "matrix[([1]),([2])]\n",
    "b = np.array([1,2,4])*np.array([2,4,5])\n",
    "matrix3 == matrix2\n",
    "matrix3"
   ]
  }
 ],
 "metadata": {
  "kernelspec": {
   "display_name": "Python 3 (ipykernel)",
   "language": "python",
   "name": "python3"
  },
  "language_info": {
   "codemirror_mode": {
    "name": "ipython",
    "version": 3
   },
   "file_extension": ".py",
   "mimetype": "text/x-python",
   "name": "python",
   "nbconvert_exporter": "python",
   "pygments_lexer": "ipython3",
   "version": "3.9.12"
  }
 },
 "nbformat": 4,
 "nbformat_minor": 5
}
