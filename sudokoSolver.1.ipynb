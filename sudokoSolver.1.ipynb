{
 "cells": [
  {
   "cell_type": "code",
   "execution_count": 154,
   "id": "23132811",
   "metadata": {},
   "outputs": [],
   "source": [
    "#Defining the sududo matrix\n",
    "import numpy as np\n",
    "\n",
    "#Defining the matrix as sudoku with zero values as empty cells\n",
    "matrix = np.matrix([[1,0,7,6,0,0,0,0,0],[0,0,9,0,4,0,7,0,0],[0,0,5,0,8,0,0,3,0],[0,2,0,0,0,0,0,8,7],[0,0,4,7,0,6,9,0,0],[7,5,0,0,0,0,0,1,0],[0,4,0,0,9,0,3,0,0],[0,0,1,0,6,0,8,0,0],[0,0,0,0,0,3,1,0,6]])"
   ]
  },
  {
   "cell_type": "code",
   "execution_count": 155,
   "id": "c4f769de",
   "metadata": {},
   "outputs": [],
   "source": [
    "#Find the index of value 0\n",
    "\n",
    "\n",
    "matrix2 = matrix.copy()"
   ]
  },
  {
   "cell_type": "code",
   "execution_count": 157,
   "id": "5911f612",
   "metadata": {},
   "outputs": [
    {
     "data": {
      "text/plain": [
       "[[[2, 5, 8, 9],\n",
       "  [7, 8, 9],\n",
       "  [2, 8],\n",
       "  [2, 4, 5, 8],\n",
       "  [2, 5, 7],\n",
       "  [2, 4, 5, 7],\n",
       "  [2, 4, 6],\n",
       "  [2, 4, 5, 7, 9],\n",
       "  [2, 4, 5, 9]],\n",
       " [[2, 5, 8, 9],\n",
       "  [7, 8, 9],\n",
       "  [2, 8],\n",
       "  [2, 4, 5, 8],\n",
       "  [2, 5, 7],\n",
       "  [2, 4, 5, 7],\n",
       "  [2, 4, 6],\n",
       "  [2, 4, 5, 7, 9],\n",
       "  [2, 4, 5, 9]],\n",
       " [[2, 5, 8, 9],\n",
       "  [7, 8, 9],\n",
       "  [2, 8],\n",
       "  [2, 4, 5, 8],\n",
       "  [2, 5, 7],\n",
       "  [2, 4, 5, 7],\n",
       "  [2, 4, 6],\n",
       "  [2, 4, 5, 7, 9],\n",
       "  [2, 4, 5, 9]],\n",
       " [[2, 5, 8, 9],\n",
       "  [7, 8, 9],\n",
       "  [2, 8],\n",
       "  [2, 4, 5, 8],\n",
       "  [2, 5, 7],\n",
       "  [2, 4, 5, 7],\n",
       "  [2, 4, 6],\n",
       "  [2, 4, 5, 7, 9],\n",
       "  [2, 4, 5, 9]],\n",
       " [[2, 5, 8, 9],\n",
       "  [7, 8, 9],\n",
       "  [2, 8],\n",
       "  [2, 4, 5, 8],\n",
       "  [2, 5, 7],\n",
       "  [2, 4, 5, 7],\n",
       "  [2, 4, 6],\n",
       "  [2, 4, 5, 7, 9],\n",
       "  [2, 4, 5, 9]],\n",
       " [[2, 5, 8, 9],\n",
       "  [7, 8, 9],\n",
       "  [2, 8],\n",
       "  [2, 4, 5, 8],\n",
       "  [2, 5, 7],\n",
       "  [2, 4, 5, 7],\n",
       "  [2, 4, 6],\n",
       "  [2, 4, 5, 7, 9],\n",
       "  [2, 4, 5, 9]],\n",
       " [[2, 5, 8, 9],\n",
       "  [7, 8, 9],\n",
       "  [2, 8],\n",
       "  [2, 4, 5, 8],\n",
       "  [2, 5, 7],\n",
       "  [2, 4, 5, 7],\n",
       "  [2, 4, 6],\n",
       "  [2, 4, 5, 7, 9],\n",
       "  [2, 4, 5, 9]],\n",
       " [[2, 5, 8, 9],\n",
       "  [7, 8, 9],\n",
       "  [2, 8],\n",
       "  [2, 4, 5, 8],\n",
       "  [2, 5, 7],\n",
       "  [2, 4, 5, 7],\n",
       "  [2, 4, 6],\n",
       "  [2, 4, 5, 7, 9],\n",
       "  [2, 4, 5, 9]],\n",
       " [[2, 5, 8, 9],\n",
       "  [7, 8, 9],\n",
       "  [2, 8],\n",
       "  [2, 4, 5, 8],\n",
       "  [2, 5, 7],\n",
       "  [2, 4, 5, 7],\n",
       "  [2, 4, 6],\n",
       "  [2, 4, 5, 7, 9],\n",
       "  [2, 4, 5, 9]]]"
      ]
     },
     "execution_count": 157,
     "metadata": {},
     "output_type": "execute_result"
    }
   ],
   "source": [
    "index = np.where(matrix == 0)\n",
    "ma = []\n",
    "for i in range(9):\n",
    "    ma.append([])\n",
    "ma = [ma]\n",
    "ma = ma*9\n",
    "def lst(i):\n",
    "    return [index[0][i]],[index[1][i]]\n",
    "\n",
    "def matrix_change():\n",
    "    temp_list = []\n",
    "\n",
    "    #each cell with zero value is tested\n",
    "    for i in np.arange(len(index[0])):\n",
    "        row,col = lst(i)[0][0],lst(i)[1][0]\n",
    "        #find the list of values in 1..9 which passes the basic test\n",
    "        for j in np.arange(1,10):  \n",
    "            #if j is not in the column and row and the box where the cell is present j will be added to the temp_list\n",
    "            if (j not in matrix[row] and j not in matrix.T[col]):\n",
    "                temp_row,temp_col = int(row/3),int(col/3)\n",
    "                box_x = []\n",
    "                box_y = []\n",
    "                for x in range(3*temp_row,3*temp_row+3):\n",
    "                    for y in range(3*temp_col,3*temp_col+3):\n",
    "                        box_x.append(x)\n",
    "                        box_y.append(y)\n",
    "                box = (box_x,box_y)\n",
    "                if (j not in matrix[box]):\n",
    "                    temp_list.append(j)\n",
    "        ma[row][col]=temp_list\n",
    "        if(len(temp_list) ==1):\n",
    "            matrix[[row],[col]]=temp_list[0]\n",
    "        temp_list=[]\n",
    "         #After creating the temp_list matrics\n",
    "matrix_change()\n",
    "ma\n",
    "        \n"
   ]
  },
  {
   "cell_type": "code",
   "execution_count": 102,
   "id": "800abea7",
   "metadata": {},
   "outputs": [
    {
     "ename": "TypeError",
     "evalue": "argument of type 'builtin_function_or_method' is not iterable",
     "output_type": "error",
     "traceback": [
      "\u001b[0;31m---------------------------------------------------------------------------\u001b[0m",
      "\u001b[0;31mTypeError\u001b[0m                                 Traceback (most recent call last)",
      "Input \u001b[0;32mIn [102]\u001b[0m, in \u001b[0;36m<cell line: 1>\u001b[0;34m()\u001b[0m\n\u001b[0;32m----> 1\u001b[0m \u001b[38;5;241;43m3\u001b[39;49m\u001b[43m \u001b[49m\u001b[38;5;129;43;01min\u001b[39;49;00m\u001b[43m \u001b[49m\u001b[43mma\u001b[49m\u001b[43m[\u001b[49m\u001b[38;5;241;43m0\u001b[39;49m\u001b[43m]\u001b[49m\u001b[43m[\u001b[49m\u001b[38;5;241;43m0\u001b[39;49m\u001b[43m]\u001b[49m\n",
      "\u001b[0;31mTypeError\u001b[0m: argument of type 'builtin_function_or_method' is not iterable"
     ]
    }
   ],
   "source": [
    "3 in ma[0][0]"
   ]
  },
  {
   "cell_type": "code",
   "execution_count": 79,
   "id": "ddf57416",
   "metadata": {},
   "outputs": [
    {
     "data": {
      "text/plain": [
       "array([1, 2])"
      ]
     },
     "execution_count": 79,
     "metadata": {},
     "output_type": "execute_result"
    }
   ],
   "source": [
    "ind = [list(index[0]),list(index[1])]\n",
    "matrix[[1],[2]]\n",
    "matrix[lst(3)]=matrix[lst(3)].tolist()\n",
    "lst(1)[1]\n",
    "matrix[([1]),([2])]\n",
    "b = np.array([1,2,4])*np.array([2,4,5])\n",
    "matrix3 == matrix2\n",
    "ma = np.full((9,9),np.array)\n",
    "ma[1][1]= np.array([1,2])\n",
    "ma[1][1]"
   ]
  },
  {
   "cell_type": "code",
   "execution_count": 153,
   "id": "c0e76a84",
   "metadata": {},
   "outputs": [
    {
     "data": {
      "text/plain": [
       "[]"
      ]
     },
     "execution_count": 153,
     "metadata": {},
     "output_type": "execute_result"
    }
   ],
   "source": [
    "ma = []\n",
    "for i in range(9):\n",
    "    ma.append([])\n",
    "ma = [ma]\n",
    "ma = ma*9\n",
    "ma[0][0]"
   ]
  }
 ],
 "metadata": {
  "kernelspec": {
   "display_name": "Python 3 (ipykernel)",
   "language": "python",
   "name": "python3"
  },
  "language_info": {
   "codemirror_mode": {
    "name": "ipython",
    "version": 3
   },
   "file_extension": ".py",
   "mimetype": "text/x-python",
   "name": "python",
   "nbconvert_exporter": "python",
   "pygments_lexer": "ipython3",
   "version": "3.9.12"
  }
 },
 "nbformat": 4,
 "nbformat_minor": 5
}
