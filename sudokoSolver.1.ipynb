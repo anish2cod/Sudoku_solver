{
 "cells": [
  {
   "cell_type": "code",
   "execution_count": 27,
   "id": "23132811",
   "metadata": {},
   "outputs": [],
   "source": [
    "#Defining the suduku matrix\n",
    "import numpy as np\n",
    "\n",
    "#Defining the matrix as sudoku with zero values as empty cells\n",
    "matrix = np.matrix([[1,0,7,6,0,0,0,0,0],[0,0,9,0,4,0,7,0,0],[0,0,5,0,8,0,0,3,0],[0,2,0,0,0,0,0,8,7],[0,0,4,7,0,6,9,0,0],[7,5,0,0,0,0,0,1,0],[0,4,0,0,9,0,3,0,0],[0,0,1,0,6,0,8,0,0],[0,0,0,0,0,3,1,0,6]])"
   ]
  },
  {
   "cell_type": "code",
   "execution_count": 24,
   "id": "c4f769de",
   "metadata": {},
   "outputs": [],
   "source": [
    "#Find the index of value 0\n",
    "\n",
    "matrix2 = matrix.copy()"
   ]
  },
  {
   "cell_type": "code",
   "execution_count": 29,
   "id": "5911f612",
   "metadata": {},
   "outputs": [
    {
     "data": {
      "text/plain": [
       "matrix([[1, 0, 7, 6, 0, 0, 0, 0, 0],\n",
       "        [2, 0, 9, 0, 4, 0, 7, 6, 0],\n",
       "        [4, 6, 5, 0, 8, 7, 2, 3, 0],\n",
       "        [9, 2, 0, 0, 0, 0, 0, 8, 7],\n",
       "        [8, 1, 4, 7, 0, 6, 9, 0, 0],\n",
       "        [7, 5, 0, 0, 0, 0, 0, 1, 0],\n",
       "        [6, 4, 0, 0, 9, 0, 3, 7, 0],\n",
       "        [3, 7, 1, 0, 6, 0, 8, 0, 0],\n",
       "        [5, 9, 0, 0, 7, 3, 1, 0, 6]])"
      ]
     },
     "execution_count": 29,
     "metadata": {},
     "output_type": "execute_result"
    }
   ],
   "source": [
    "matrix_previous_state = matrix+1\n",
    "#Where function returns the index of the cells with row index in 1st tuple and column index in 2nd tuple\n",
    "#index_of_zeros is tuple of 2 arrays\n",
    "\n",
    "def current_index_of_zeros():\n",
    "    return np.where(matrix == 0)\n",
    "\n",
    "\n",
    "#pull_index function pulls the 'i'th index from index_of_zeros and returns the respective index\n",
    "\n",
    "def pull_index(i,current_index_of_zero_list):\n",
    "    #arugment i depends on the number of zeros in the matrix\n",
    "    ##print('Number of zeros ',len(current_index_of_zero_list[0]))\n",
    "    return current_index_of_zero_list[0][i],current_index_of_zero_list[1][i]\n",
    "\n",
    "def possible_valuesof_cell(r,c):\n",
    "    # r --> row and c --> column\n",
    "    #find the list of values in 1..9 which pass the basic test\n",
    "    #The test is for one cell and return a list of possible values\n",
    "    temp_list = []\n",
    "    if (matrix[[r],[c]] != 0):\n",
    "        return [np.NaN]\n",
    "    for j in range(1,10):  \n",
    "            #if j is not in the column and row and the box where the cell is present j will be added to the temp_list\n",
    "            if (j not in matrix[r] and j not in matrix.T[c]):\n",
    "                temp_row,temp_col = 3*int(r/3),3*int(c/3)\n",
    "                box_x = []\n",
    "                box_y = []\n",
    "                for x in range(3):\n",
    "                    for y in range(3):\n",
    "                        #usage of modules function is to reduce the computation \n",
    "                        #since already using the first check we checked in the row and column of the cell\n",
    "                        #Here the cells in the subgrid other the checked cell are checked\n",
    "                        box_x.append(temp_row + (r+x)%3)\n",
    "                        box_y.append(temp_col + (c+y)%3)\n",
    "                box = (box_x,box_y)\n",
    "                if (j not in matrix[box]):\n",
    "                    temp_list.append(j)\n",
    "    return temp_list\n",
    "\n",
    "\n",
    "def filtr(r,c):\n",
    "    if(np.isnan(possible_valuesof_cell(r,c))[0] == False):\n",
    "        count = 0\n",
    "        temp_lst = []\n",
    "        temp_row,temp_col = 3*int(r/3),3*int(c/3)\n",
    "        for l in range(temp_row,temp_row+3):\n",
    "            for m in range(temp_col,temp_col+3):\n",
    "                if(np.isnan(possible_valuesof_cell(l,m))[0]):\n",
    "                    temp_lst = temp_lst+ matrix[[l],[m]].tolist()\n",
    "                else:\n",
    "                    temp_lst = temp_lst+[possible_valuesof_cell(l,m)]\n",
    "       ## print(temp_lst)\n",
    "        for val in range(1,10):\n",
    "            for n in range(len(temp_lst)):\n",
    "                if (val not in temp_lst[n] and temp_lst[n] != possible_valuesof_cell(r,c)):\n",
    "                        count = count+1\n",
    "          ##  print(val,\",\",count)\n",
    "            if(count == len(temp_lst)-1):\n",
    "                return [val]\n",
    "            count = 0\n",
    "    return possible_valuesof_cell(r,c)\n",
    "                \n",
    "#Main picture\n",
    "c=0\n",
    "while(np.all(matrix == matrix_previous_state) == False):\n",
    "    c = c+1\n",
    "   ## print('loop_count ',c)\n",
    "    matrix_previous_state = matrix.copy()\n",
    "    current_index_of_zero_list = current_index_of_zeros()\n",
    "    lenth_of_zeros = len(current_index_of_zero_list[0])\n",
    "    for i in range(lenth_of_zeros):\n",
    "        ##print('ith zero',i)\n",
    "        row,col = pull_index(i,current_index_of_zero_list)\n",
    "        if( len(possible_valuesof_cell(row,col))==1):\n",
    "            matrix[[row],[col]] = possible_valuesof_cell(row,col)[0]\n",
    "\n",
    "        elif( len(filtr(row,col))==1):\n",
    "            matrix[[row],[col]] = filtr(row,col)[0]\n",
    "        ##print(row,',',col,',',possible_valuesof_cell(row,col),',',filtr(row,col))\n",
    "matrix"
   ]
  },
  {
   "cell_type": "code",
   "execution_count": 9,
   "id": "800abea7",
   "metadata": {},
   "outputs": [
    {
     "name": "stdout",
     "output_type": "stream",
     "text": [
      "Number of zeros  53\n"
     ]
    },
    {
     "data": {
      "text/plain": [
       "(2, 1)"
      ]
     },
     "execution_count": 9,
     "metadata": {},
     "output_type": "execute_result"
    }
   ],
   "source": [
    "pull_index(13,current_index_of_zero_list)"
   ]
  },
  {
   "cell_type": "code",
   "execution_count": 19,
   "id": "ddf57416",
   "metadata": {},
   "outputs": [
    {
     "data": {
      "text/plain": [
       "True"
      ]
     },
     "execution_count": 19,
     "metadata": {},
     "output_type": "execute_result"
    }
   ],
   "source": [
    "np.all(matrix == matrix_previous_state)"
   ]
  },
  {
   "cell_type": "code",
   "execution_count": 21,
   "id": "bfcdf46f",
   "metadata": {},
   "outputs": [
    {
     "data": {
      "text/plain": [
       "matrix([[1, 0, 7, 6, 0, 0, 0, 0, 0],\n",
       "        [2, 0, 9, 0, 4, 0, 7, 6, 0],\n",
       "        [4, 6, 5, 0, 8, 7, 2, 3, 0],\n",
       "        [9, 2, 0, 0, 0, 0, 0, 8, 7],\n",
       "        [0, 1, 4, 7, 0, 6, 9, 0, 0],\n",
       "        [7, 5, 0, 0, 0, 0, 0, 1, 0],\n",
       "        [0, 4, 0, 0, 9, 0, 3, 0, 0],\n",
       "        [0, 7, 1, 0, 6, 0, 8, 0, 0],\n",
       "        [0, 9, 0, 0, 7, 3, 1, 0, 6]])"
      ]
     },
     "execution_count": 21,
     "metadata": {},
     "output_type": "execute_result"
    }
   ],
   "source": [
    "matrix_previous_state"
   ]
  },
  {
   "cell_type": "code",
   "execution_count": 6,
   "id": "c0e76a84",
   "metadata": {
    "scrolled": true
   },
   "outputs": [
    {
     "data": {
      "text/plain": [
       "matrix([[ True]])"
      ]
     },
     "execution_count": 6,
     "metadata": {},
     "output_type": "execute_result"
    }
   ],
   "source": [
    "ma = []\n",
    "for i in range(9):\n",
    "    ma.append([])\n",
    "ma = [ma]\n",
    "ma = ma*9\n",
    "ma = np.array(ma)\n",
    "ma[2][2]= [1]\n",
    "ma[2][2]=1\n",
    "matrix2[[1],[2]]=3\n",
    "matrix2[[1],[2]]==3"
   ]
  }
 ],
 "metadata": {
  "kernelspec": {
   "display_name": "Python 3 (ipykernel)",
   "language": "python",
   "name": "python3"
  },
  "language_info": {
   "codemirror_mode": {
    "name": "ipython",
    "version": 3
   },
   "file_extension": ".py",
   "mimetype": "text/x-python",
   "name": "python",
   "nbconvert_exporter": "python",
   "pygments_lexer": "ipython3",
   "version": "3.9.12"
  }
 },
 "nbformat": 4,
 "nbformat_minor": 5
}
